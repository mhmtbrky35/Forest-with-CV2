{
 "cells": [
  {
   "cell_type": "code",
   "execution_count": 550,
   "id": "4911997e-82da-4e02-895c-67a167e21c8e",
   "metadata": {},
   "outputs": [],
   "source": [
    "import numpy as np\n",
    "import cv2 as cv\n",
    "import random"
   ]
  },
  {
   "cell_type": "code",
   "execution_count": 551,
   "id": "42e7431a",
   "metadata": {},
   "outputs": [],
   "source": [
    "#general parameters\n",
    "width = 900\n",
    "height = 600\n",
    "ground_level = height -100\n",
    "n_trees = 25"
   ]
  },
  {
   "cell_type": "code",
   "execution_count": 552,
   "id": "a49ddfc4",
   "metadata": {},
   "outputs": [],
   "source": [
    "#colours\n",
    "background_green = (40,185,40)"
   ]
  },
  {
   "cell_type": "code",
   "execution_count": 553,
   "id": "74f5b8e6",
   "metadata": {},
   "outputs": [],
   "source": [
    "#blank image\n",
    "bg = np.zeros((height,width,3), dtype = np.uint8)"
   ]
  },
  {
   "cell_type": "code",
   "execution_count": 554,
   "id": "6dbad9b8",
   "metadata": {},
   "outputs": [],
   "source": [
    "#MAIN CODE\n",
    "class Tree:\n",
    "    def __init__(self, image, location):\n",
    "        self.image = image\n",
    "        self.location = location\n",
    "        self.height = int(np.random.choice(range(200,350) , 1))\n",
    "        self.truk_thickness = 20\n",
    "        self.branch_thickness = 5\n",
    "        self.radius = 50\n",
    "        self.scale = np.random.choice(np.linspace(0.5, 2.5, num = 8) , 1)\n",
    "    \n",
    "    def generate_colurs(self):\n",
    "        green = (0,random.randint(130,200),0)\n",
    "        light_green = (35,random.randint(200,250),35)\n",
    "        brown = random.choice([(2, 30, 85), (5, 55, 120), (0, 70, 140)])\n",
    "        return green, light_green, brown\n",
    "    \n",
    "    def draw(self):\n",
    "        small_radius = (self.radius - 20) * self.scale\n",
    "        green, light_green, brown = self.generate_colurs()\n",
    "        # leafs - shadows\n",
    "        cv.circle(self.image, (self.location, ground_level - self.height), int(self.radius * self.scale), green, -1)\n",
    "        cv.circle(self.image, (int(self.location - 45 * self.scale), int(ground_level - self.height + small_radius)), int(small_radius), green, -1)\n",
    "        cv.circle(self.image, (int(self.location + 45 * self.scale), int(ground_level - self.height + small_radius)), int(small_radius), green, -1)\n",
    "        # trunk\n",
    "        cv.line(self.image,(self.location, ground_level), (self.location, ground_level - self.height),brown, int(self.truk_thickness * self.scale))\n",
    "        # branches\n",
    "        cv.line(self.image,(self.location, int(ground_level - self.height + 75 * self.scale)), (int(self.location + 45 * self.scale), int(ground_level - self.height + small_radius)),brown, int(self.branch_thickness * self.scale))\n",
    "        cv.line(self.image,(self.location, int(ground_level - self.height + 75 * self.scale)), (int(self.location - 45 * self.scale), int(ground_level - self.height + small_radius)),brown, int(self.branch_thickness * self.scale))\n",
    "        # leafs - highlights\n",
    "        cv.circle(self.image, (self.location, ground_level - self.height), int((self.radius - 10) * self.scale), light_green, -1)\n",
    "        cv.circle(self.image, (int(self.location - 45 * self.scale), int(ground_level - self.height + small_radius)), int(small_radius - 10 * self.scale), light_green, -1)\n",
    "        cv.circle(self.image, (int(self.location + 45 * self.scale), int(ground_level - self.height + small_radius)), int(small_radius - 10 * self.scale), light_green, -1)\n",
    "        \n",
    "        return self.image\n",
    "    "
   ]
  },
  {
   "cell_type": "code",
   "execution_count": null,
   "id": "ddb2ff08",
   "metadata": {},
   "outputs": [
    {
     "name": "stderr",
     "output_type": "stream",
     "text": [
      "C:\\Users\\Berkay\\AppData\\Local\\Temp\\ipykernel_31416\\2034347614.py:3: DeprecationWarning: Conversion of an array with ndim > 0 to a scalar is deprecated, and will error in future. Ensure you extract a single element from your array before performing this operation. (Deprecated NumPy 1.25.)\n",
      "  image = Tree(bg, int(np.random.choice(range(900) , 1)))\n",
      "C:\\Users\\Berkay\\AppData\\Local\\Temp\\ipykernel_31416\\380188207.py:6: DeprecationWarning: Conversion of an array with ndim > 0 to a scalar is deprecated, and will error in future. Ensure you extract a single element from your array before performing this operation. (Deprecated NumPy 1.25.)\n",
      "  self.height = int(np.random.choice(range(200,350) , 1))\n",
      "C:\\Users\\Berkay\\AppData\\Local\\Temp\\ipykernel_31416\\380188207.py:22: DeprecationWarning: Conversion of an array with ndim > 0 to a scalar is deprecated, and will error in future. Ensure you extract a single element from your array before performing this operation. (Deprecated NumPy 1.25.)\n",
      "  cv.circle(self.image, (self.location, ground_level - self.height), int(self.radius * self.scale), green, -1)\n",
      "C:\\Users\\Berkay\\AppData\\Local\\Temp\\ipykernel_31416\\380188207.py:23: DeprecationWarning: Conversion of an array with ndim > 0 to a scalar is deprecated, and will error in future. Ensure you extract a single element from your array before performing this operation. (Deprecated NumPy 1.25.)\n",
      "  cv.circle(self.image, (int(self.location - 45 * self.scale), int(ground_level - self.height + small_radius)), int(small_radius), green, -1)\n",
      "C:\\Users\\Berkay\\AppData\\Local\\Temp\\ipykernel_31416\\380188207.py:24: DeprecationWarning: Conversion of an array with ndim > 0 to a scalar is deprecated, and will error in future. Ensure you extract a single element from your array before performing this operation. (Deprecated NumPy 1.25.)\n",
      "  cv.circle(self.image, (int(self.location + 45 * self.scale), int(ground_level - self.height + small_radius)), int(small_radius), green, -1)\n",
      "C:\\Users\\Berkay\\AppData\\Local\\Temp\\ipykernel_31416\\380188207.py:26: DeprecationWarning: Conversion of an array with ndim > 0 to a scalar is deprecated, and will error in future. Ensure you extract a single element from your array before performing this operation. (Deprecated NumPy 1.25.)\n",
      "  cv.line(self.image,(self.location, ground_level), (self.location, ground_level - self.height),brown, int(self.truk_thickness * self.scale))\n",
      "C:\\Users\\Berkay\\AppData\\Local\\Temp\\ipykernel_31416\\380188207.py:28: DeprecationWarning: Conversion of an array with ndim > 0 to a scalar is deprecated, and will error in future. Ensure you extract a single element from your array before performing this operation. (Deprecated NumPy 1.25.)\n",
      "  cv.line(self.image,(self.location, int(ground_level - self.height + 75 * self.scale)), (int(self.location + 45 * self.scale), int(ground_level - self.height + small_radius)),brown, int(self.branch_thickness * self.scale))\n",
      "C:\\Users\\Berkay\\AppData\\Local\\Temp\\ipykernel_31416\\380188207.py:29: DeprecationWarning: Conversion of an array with ndim > 0 to a scalar is deprecated, and will error in future. Ensure you extract a single element from your array before performing this operation. (Deprecated NumPy 1.25.)\n",
      "  cv.line(self.image,(self.location, int(ground_level - self.height + 75 * self.scale)), (int(self.location - 45 * self.scale), int(ground_level - self.height + small_radius)),brown, int(self.branch_thickness * self.scale))\n",
      "C:\\Users\\Berkay\\AppData\\Local\\Temp\\ipykernel_31416\\380188207.py:31: DeprecationWarning: Conversion of an array with ndim > 0 to a scalar is deprecated, and will error in future. Ensure you extract a single element from your array before performing this operation. (Deprecated NumPy 1.25.)\n",
      "  cv.circle(self.image, (self.location, ground_level - self.height), int((self.radius - 10) * self.scale), light_green, -1)\n",
      "C:\\Users\\Berkay\\AppData\\Local\\Temp\\ipykernel_31416\\380188207.py:32: DeprecationWarning: Conversion of an array with ndim > 0 to a scalar is deprecated, and will error in future. Ensure you extract a single element from your array before performing this operation. (Deprecated NumPy 1.25.)\n",
      "  cv.circle(self.image, (int(self.location - 45 * self.scale), int(ground_level - self.height + small_radius)), int(small_radius - 10 * self.scale), light_green, -1)\n",
      "C:\\Users\\Berkay\\AppData\\Local\\Temp\\ipykernel_31416\\380188207.py:33: DeprecationWarning: Conversion of an array with ndim > 0 to a scalar is deprecated, and will error in future. Ensure you extract a single element from your array before performing this operation. (Deprecated NumPy 1.25.)\n",
      "  cv.circle(self.image, (int(self.location + 45 * self.scale), int(ground_level - self.height + small_radius)), int(small_radius - 10 * self.scale), light_green, -1)\n"
     ]
    }
   ],
   "source": [
    "#draw backgroung\n",
    "cv.rectangle(bg, (width, 0), (0, ground_level), (255, 255, 95), -1)\n",
    "\n",
    "#draw the trees\n",
    "for i in range(n_trees):\n",
    "    image = Tree(bg, int(np.random.choice(range(900) , 1)))\n",
    "    image.draw()\n",
    "\n",
    "#drw the ground\n",
    "cv.rectangle(bg, (width, ground_level), (0,height),background_green, -1)\n",
    "\n",
    "#display image\n",
    "cv.imshow(\"forest of object\",bg)\n",
    "\n",
    "cv.waitKey(0)\n",
    "cv.destroyAllWindows()"
   ]
  }
 ],
 "metadata": {
  "kernelspec": {
   "display_name": "Python 3 (ipykernel)",
   "language": "python",
   "name": "python3"
  },
  "language_info": {
   "codemirror_mode": {
    "name": "ipython",
    "version": 3
   },
   "file_extension": ".py",
   "mimetype": "text/x-python",
   "name": "python",
   "nbconvert_exporter": "python",
   "pygments_lexer": "ipython3",
   "version": "3.13.2"
  }
 },
 "nbformat": 4,
 "nbformat_minor": 5
}
