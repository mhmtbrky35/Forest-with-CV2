{
 "cells": [
  {
   "cell_type": "code",
   "execution_count": 137,
   "id": "4911997e-82da-4e02-895c-67a167e21c8e",
   "metadata": {},
   "outputs": [],
   "source": [
    "import numpy as np\n",
    "import cv2 as cv\n",
    "import random"
   ]
  },
  {
   "cell_type": "code",
   "execution_count": 138,
   "id": "42e7431a",
   "metadata": {},
   "outputs": [],
   "source": [
    "#general parameters\n",
    "width = 900\n",
    "height = 600\n",
    "ground_level = height -100"
   ]
  },
  {
   "cell_type": "code",
   "execution_count": 139,
   "id": "a49ddfc4",
   "metadata": {},
   "outputs": [],
   "source": [
    "#colours\n",
    "green, light_green, brown = (40,185,40), (25,220,0), (30,60,155)"
   ]
  },
  {
   "cell_type": "code",
   "execution_count": 140,
   "id": "74f5b8e6",
   "metadata": {},
   "outputs": [],
   "source": [
    "#blank image\n",
    "bg = np.zeros((height,width,3), dtype = np.uint8)"
   ]
  },
  {
   "cell_type": "code",
   "execution_count": 141,
   "id": "f5cdaac1",
   "metadata": {},
   "outputs": [
    {
     "data": {
      "text/plain": [
       "array([[[255, 255,  95],\n",
       "        [255, 255,  95],\n",
       "        [255, 255,  95],\n",
       "        ...,\n",
       "        [255, 255,  95],\n",
       "        [255, 255,  95],\n",
       "        [255, 255,  95]],\n",
       "\n",
       "       [[255, 255,  95],\n",
       "        [255, 255,  95],\n",
       "        [255, 255,  95],\n",
       "        ...,\n",
       "        [255, 255,  95],\n",
       "        [255, 255,  95],\n",
       "        [255, 255,  95]],\n",
       "\n",
       "       [[255, 255,  95],\n",
       "        [255, 255,  95],\n",
       "        [255, 255,  95],\n",
       "        ...,\n",
       "        [255, 255,  95],\n",
       "        [255, 255,  95],\n",
       "        [255, 255,  95]],\n",
       "\n",
       "       ...,\n",
       "\n",
       "       [[ 40, 185,  40],\n",
       "        [ 40, 185,  40],\n",
       "        [ 40, 185,  40],\n",
       "        ...,\n",
       "        [ 40, 185,  40],\n",
       "        [ 40, 185,  40],\n",
       "        [ 40, 185,  40]],\n",
       "\n",
       "       [[ 40, 185,  40],\n",
       "        [ 40, 185,  40],\n",
       "        [ 40, 185,  40],\n",
       "        ...,\n",
       "        [ 40, 185,  40],\n",
       "        [ 40, 185,  40],\n",
       "        [ 40, 185,  40]],\n",
       "\n",
       "       [[ 40, 185,  40],\n",
       "        [ 40, 185,  40],\n",
       "        [ 40, 185,  40],\n",
       "        ...,\n",
       "        [ 40, 185,  40],\n",
       "        [ 40, 185,  40],\n",
       "        [ 40, 185,  40]]], shape=(600, 900, 3), dtype=uint8)"
      ]
     },
     "execution_count": 141,
     "metadata": {},
     "output_type": "execute_result"
    }
   ],
   "source": [
    "#draw backgroung\n",
    "cv.rectangle(bg, (width, 0), (0, ground_level), (255, 255, 95), -1)\n",
    "cv.rectangle(bg, (width, ground_level), (0,height),green, -1)"
   ]
  },
  {
   "cell_type": "code",
   "execution_count": 142,
   "id": "6dbad9b8",
   "metadata": {},
   "outputs": [],
   "source": [
    "#MAIN CODE\n",
    "class Tree:\n",
    "    def __init__(self, image, location):\n",
    "        self.image = image\n",
    "        self.location = location\n",
    "        self.height = 300\n",
    "        self.truk_thickness = 40\n",
    "        self.branch_thickness = 10\n",
    "        self.radius = 100\n",
    "    \n",
    "    def draw(self):\n",
    "        # trunk\n",
    "        cv.line(self.image,(self.location, ground_level), (self.location, self.height),brown, self.truk_thickness)\n",
    "        # branches\n",
    "        cv.line(self.image,(self.location, ground_level - self.height + 150), (self.location + 90, ground_level - self.height + self.radius - 40),brown, self.branch_thickness)\n",
    "        cv.line(self.image,(self.location, ground_level - self.height + 150), (self.location - 90, ground_level - self.height + self.radius - 40),brown, self.branch_thickness)\n",
    "        # leafs\n",
    "        cv.circle(self.image, (self.location, ground_level - self.height), self.radius, green, -1)\n",
    "        cv.circle(self.image, (self.location - 90, ground_level - self.height + self.radius - 40), self.radius-40, green,-1)\n",
    "        cv.circle(self.image, (self.location + 90, ground_level - self.height + self.radius - 40), self.radius-40, green,-1)\n",
    "        return self.image\n",
    "    "
   ]
  },
  {
   "cell_type": "code",
   "execution_count": 143,
   "id": "ddb2ff08",
   "metadata": {},
   "outputs": [],
   "source": [
    "#display image\n",
    "image = Tree(bg, 450)\n",
    "image.draw()\n",
    "\n",
    "cv.imshow(\"forest of object\",bg)\n",
    "\n",
    "cv.waitKey(0)\n",
    "cv.destroyAllWindows()"
   ]
  }
 ],
 "metadata": {
  "kernelspec": {
   "display_name": "Python 3 (ipykernel)",
   "language": "python",
   "name": "python3"
  },
  "language_info": {
   "codemirror_mode": {
    "name": "ipython",
    "version": 3
   },
   "file_extension": ".py",
   "mimetype": "text/x-python",
   "name": "python",
   "nbconvert_exporter": "python",
   "pygments_lexer": "ipython3",
   "version": "3.13.2"
  }
 },
 "nbformat": 4,
 "nbformat_minor": 5
}
